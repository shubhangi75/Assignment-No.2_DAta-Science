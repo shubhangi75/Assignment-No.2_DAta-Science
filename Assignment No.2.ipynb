{
 "cells": [
  {
   "cell_type": "code",
   "execution_count": 2,
   "id": "bf647b5f-865e-4c3d-b8e3-2fed4ae406c0",
   "metadata": {},
   "outputs": [
    {
     "name": "stdout",
     "output_type": "stream",
     "text": [
      "[1, 3, 5, 7, 9, 11, 13, 15, 17, 19, 21, 23, 25]\n"
     ]
    }
   ],
   "source": [
    "#Q1. Which keyword is used to create a function? Create a function to return a list of odd numbers in the\n",
    "#range of 1 to 25.\n",
    "# def keyword is used to create a function\n",
    "def odd_nos ():\n",
    "    l = [] \n",
    "    for i in range (1, 26) :\n",
    "        if i % 2 != 0 :\n",
    "            l.append(i)\n",
    "    print(l)\n",
    "odd_nos()"
   ]
  },
  {
   "cell_type": "code",
   "execution_count": 3,
   "id": "e471f51d-67c6-48bf-a763-afc1b75c5cc5",
   "metadata": {},
   "outputs": [
    {
     "name": "stdout",
     "output_type": "stream",
     "text": [
      "sqaure of a  (5,) is 25\n"
     ]
    }
   ],
   "source": [
    "# Q.2 *args and **kwargs bot are the keywords usedto pass variable number of arguments to a function\n",
    "# *args is a non keyword arguments\n",
    "# **kwargs is a keyword argument\n",
    "def square_no (*args):\n",
    "    #no=0\n",
    "    for i in args: \n",
    "        no =i*i\n",
    "    print(\"sqaure of a \",args ,\"is\", no)\n",
    "square_no(5)    "
   ]
  },
  {
   "cell_type": "code",
   "execution_count": 4,
   "id": "65ee0ddd-da87-4e12-baa2-5a3c7a9345b7",
   "metadata": {},
   "outputs": [
    {
     "name": "stdout",
     "output_type": "stream",
     "text": [
      "2\n",
      "4\n",
      "6\n",
      "8\n",
      "10\n"
     ]
    }
   ],
   "source": [
    "#Q.3 iterator is an object that contains a countable values\n",
    "#iter() method is used for intialise iterator and next() method is used for iteration\n",
    "#Use these methods to print the first five elements of the given list [2, 4, 6, 8, 10, 12, 14,\n",
    "#16, 18, 20].\n",
    "l= [2, 4, 6, 8, 10, 12, 14,16, 18, 20]\n",
    "a= iter(l)\n",
    "print(next(a))\n",
    "print(next(a))\n",
    "print(next(a))\n",
    "print(next(a))\n",
    "print(next(a))"
   ]
  },
  {
   "cell_type": "code",
   "execution_count": 5,
   "id": "1bc331ca-519a-415c-89a0-ab94a51c4272",
   "metadata": {},
   "outputs": [
    {
     "name": "stdout",
     "output_type": "stream",
     "text": [
      "25\n"
     ]
    }
   ],
   "source": [
    "#Q.4 genrator function is a function which produces a number of values when iterator is over\n",
    "#yield keyword is used to create generator function. which retun some values.\n",
    "#example\n",
    "\n",
    "def fun(b):\n",
    "    a= b*b\n",
    "    yield a\n",
    "c= fun(5)\n",
    "for i in c:\n",
    "    print(i)"
   ]
  },
  {
   "cell_type": "code",
   "execution_count": null,
   "id": "dea5dfdb-8cf4-4d06-aee1-18084c4c54b7",
   "metadata": {},
   "outputs": [],
   "source": [
    "def is_prime(n):\n",
    "    for j in range(1,n+1):\n",
    "        c=0\n",
    "        for i in range(1, j+1):\n",
    "            if j%i ==0:\n",
    "                c= c+1\n",
    "            if c== 2:\n",
    "                print(j)    \n",
    "\n",
    "def prime_generator(n):\n",
    "    n = 1\n",
    "    while True:\n",
    "        n += 1\n",
    "        if is_prime(n):\n",
    "            yield n\n",
    "\n",
    "\n",
    "n= int(input(\"enter a no\"))\n",
    "generator = prime_generator(n)\n",
    "for i in range (n+1):\n",
    "    print(next(generator))"
   ]
  },
  {
   "cell_type": "code",
   "execution_count": 3,
   "id": "7f637d89-28fc-43b9-9094-164dd4909834",
   "metadata": {},
   "outputs": [
    {
     "name": "stdout",
     "output_type": "stream",
     "text": [
      "0\n",
      "1\n",
      "1\n",
      "2\n",
      "3\n",
      "5\n",
      "8\n",
      "13\n",
      "21\n",
      "34\n"
     ]
    }
   ],
   "source": [
    "#Write a python program to print the first 10 Fibonacci numbers using a while loop.\n",
    "def fib_series():\n",
    "    a,b = 0,1\n",
    "    count = 1\n",
    "    c=0 \n",
    "    while count <= 10 :\n",
    "        print(c)\n",
    "        a= b\n",
    "        b= c\n",
    "        c= a+b\n",
    "        count= count+ 1\n",
    "fib_series()        "
   ]
  },
  {
   "cell_type": "code",
   "execution_count": 2,
   "id": "4b89cd67-b2db-4678-9348-7cbb35e6325b",
   "metadata": {},
   "outputs": [
    {
     "name": "stdout",
     "output_type": "stream",
     "text": [
      "['p', 'w', 's', 'k', 'i', 'l', 'l', 's']\n"
     ]
    }
   ],
   "source": [
    "#Write a List Comprehension to iterate through the given string: ‘pwskills’.\n",
    "#Expected output: ['p', 'w', 's', 'k', 'i', 'l', 'l', 's']\n",
    "str= \"pwskills\"\n",
    "letters= [word for word in str]\n",
    "print(letters)"
   ]
  },
  {
   "cell_type": "code",
   "execution_count": 4,
   "id": "277009a4-67e8-4c26-8e40-614300f29ba6",
   "metadata": {},
   "outputs": [
    {
     "name": "stdin",
     "output_type": "stream",
     "text": [
      "Enter a number: 585\n"
     ]
    },
    {
     "name": "stdout",
     "output_type": "stream",
     "text": [
      "The number is palindrome!\n"
     ]
    }
   ],
   "source": [
    "#Write a python program to check whether a given number is Palindrome or not using a while loop.\n",
    "num=int(input(\"Enter a number:\"))\n",
    "temp=num\n",
    "rev=0\n",
    "while(num >0):\n",
    "    dig=num%10\n",
    "    rev=rev*10+dig\n",
    "    num=num//10\n",
    "if(temp==rev):\n",
    "    print(\"The number is palindrome!\")\n",
    "else:\n",
    "    print(\"Not a palindrome!\")"
   ]
  },
  {
   "cell_type": "code",
   "execution_count": 6,
   "id": "0a0a1364-afc8-45b8-b51c-dc53a548f0bf",
   "metadata": {},
   "outputs": [
    {
     "name": "stdout",
     "output_type": "stream",
     "text": [
      "[1, 2, 3, 4, 5, 6, 7, 8, 9, 10, 11, 12, 13, 14, 15, 16, 17, 18, 19, 20, 21, 22, 23, 24, 25, 26, 27, 28, 29, 30, 31, 32, 33, 34, 35, 36, 37, 38, 39, 40, 41, 42, 43, 44, 45, 46, 47, 48, 49, 50, 51, 52, 53, 54, 55, 56, 57, 58, 59, 60, 61, 62, 63, 64, 65, 66, 67, 68, 69, 70, 71, 72, 73, 74, 75, 76, 77, 78, 79, 80, 81, 82, 83, 84, 85, 86, 87, 88, 89, 90, 91, 92, 93, 94, 95, 96, 97, 98, 99, 100]\n",
      "odd number list from l\n",
      "[1, 3, 5, 7, 9, 11, 13, 15, 17, 19, 21, 23, 25, 27, 29, 31, 33, 35, 37, 39, 41, 43, 45, 47, 49, 51, 53, 55, 57, 59, 61, 63, 65, 67, 69, 71, 73, 75, 77, 79, 81, 83, 85, 87, 89, 91, 93, 95, 97, 99]\n"
     ]
    }
   ],
   "source": [
    "#Q9. Write a code to print odd numbers from 1 to 100 using list comprehension.\n",
    "l=[]\n",
    "l= [i for i in range(1,101)]\n",
    "print(l)\n",
    "print(\"odd number list from l\")\n",
    "l1= [x for x in range(1,101) if x % 2== 1]\n",
    "print(l1)"
   ]
  },
  {
   "cell_type": "code",
   "execution_count": null,
   "id": "c8fb27f9-3c39-4e0c-8d76-54526ca563ee",
   "metadata": {},
   "outputs": [],
   "source": []
  }
 ],
 "metadata": {
  "kernelspec": {
   "display_name": "Python 3 (ipykernel)",
   "language": "python",
   "name": "python3"
  },
  "language_info": {
   "codemirror_mode": {
    "name": "ipython",
    "version": 3
   },
   "file_extension": ".py",
   "mimetype": "text/x-python",
   "name": "python",
   "nbconvert_exporter": "python",
   "pygments_lexer": "ipython3",
   "version": "3.10.8"
  }
 },
 "nbformat": 4,
 "nbformat_minor": 5
}
